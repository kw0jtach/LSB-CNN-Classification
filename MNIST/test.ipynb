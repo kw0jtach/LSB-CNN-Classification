{
 "cells": [
  {
   "cell_type": "code",
   "execution_count": 2,
   "metadata": {},
   "outputs": [],
   "source": [
    "from torchvision import datasets\n",
    "from torchvision.transforms import ToTensor"
   ]
  },
  {
   "cell_type": "code",
   "execution_count": 3,
   "metadata": {},
   "outputs": [
    {
     "name": "stdout",
     "output_type": "stream",
     "text": [
      "Downloading http://yann.lecun.com/exdb/mnist/train-images-idx3-ubyte.gz\n",
      "Failed to download (trying next):\n",
      "HTTP Error 403: Forbidden\n",
      "\n",
      "Downloading https://ossci-datasets.s3.amazonaws.com/mnist/train-images-idx3-ubyte.gz\n",
      "Downloading https://ossci-datasets.s3.amazonaws.com/mnist/train-images-idx3-ubyte.gz to data\\MNIST\\raw\\train-images-idx3-ubyte.gz\n"
     ]
    },
    {
     "name": "stderr",
     "output_type": "stream",
     "text": [
      "100.0%\n"
     ]
    },
    {
     "name": "stdout",
     "output_type": "stream",
     "text": [
      "Extracting data\\MNIST\\raw\\train-images-idx3-ubyte.gz to data\\MNIST\\raw\n",
      "\n",
      "Downloading http://yann.lecun.com/exdb/mnist/train-labels-idx1-ubyte.gz\n",
      "Failed to download (trying next):\n",
      "HTTP Error 403: Forbidden\n",
      "\n",
      "Downloading https://ossci-datasets.s3.amazonaws.com/mnist/train-labels-idx1-ubyte.gz\n",
      "Downloading https://ossci-datasets.s3.amazonaws.com/mnist/train-labels-idx1-ubyte.gz to data\\MNIST\\raw\\train-labels-idx1-ubyte.gz\n"
     ]
    },
    {
     "name": "stderr",
     "output_type": "stream",
     "text": [
      "100.0%\n"
     ]
    },
    {
     "name": "stdout",
     "output_type": "stream",
     "text": [
      "Extracting data\\MNIST\\raw\\train-labels-idx1-ubyte.gz to data\\MNIST\\raw\n",
      "\n",
      "Downloading http://yann.lecun.com/exdb/mnist/t10k-images-idx3-ubyte.gz\n",
      "Failed to download (trying next):\n",
      "HTTP Error 403: Forbidden\n",
      "\n",
      "Downloading https://ossci-datasets.s3.amazonaws.com/mnist/t10k-images-idx3-ubyte.gz\n",
      "Downloading https://ossci-datasets.s3.amazonaws.com/mnist/t10k-images-idx3-ubyte.gz to data\\MNIST\\raw\\t10k-images-idx3-ubyte.gz\n"
     ]
    },
    {
     "name": "stderr",
     "output_type": "stream",
     "text": [
      "100.0%\n"
     ]
    },
    {
     "name": "stdout",
     "output_type": "stream",
     "text": [
      "Extracting data\\MNIST\\raw\\t10k-images-idx3-ubyte.gz to data\\MNIST\\raw\n",
      "\n",
      "Downloading http://yann.lecun.com/exdb/mnist/t10k-labels-idx1-ubyte.gz\n",
      "Failed to download (trying next):\n",
      "HTTP Error 403: Forbidden\n",
      "\n",
      "Downloading https://ossci-datasets.s3.amazonaws.com/mnist/t10k-labels-idx1-ubyte.gz\n",
      "Downloading https://ossci-datasets.s3.amazonaws.com/mnist/t10k-labels-idx1-ubyte.gz to data\\MNIST\\raw\\t10k-labels-idx1-ubyte.gz\n"
     ]
    },
    {
     "name": "stderr",
     "output_type": "stream",
     "text": [
      "100.0%"
     ]
    },
    {
     "name": "stdout",
     "output_type": "stream",
     "text": [
      "Extracting data\\MNIST\\raw\\t10k-labels-idx1-ubyte.gz to data\\MNIST\\raw\n",
      "\n"
     ]
    },
    {
     "name": "stderr",
     "output_type": "stream",
     "text": [
      "\n"
     ]
    }
   ],
   "source": [
    "train_data = datasets.MNIST(\n",
    "    root=\"data\",\n",
    "    train = True,\n",
    "    transform = ToTensor(),\n",
    "    download= True\n",
    ")\n",
    "\n",
    "test_data = datasets.MNIST(\n",
    "    root=\"data\",\n",
    "    train = False,\n",
    "    transform = ToTensor(),\n",
    "    download= True\n",
    ")"
   ]
  },
  {
   "cell_type": "code",
   "execution_count": 4,
   "metadata": {},
   "outputs": [
    {
     "data": {
      "text/plain": [
       "Dataset MNIST\n",
       "    Number of datapoints: 60000\n",
       "    Root location: data\n",
       "    Split: Train\n",
       "    StandardTransform\n",
       "Transform: ToTensor()"
      ]
     },
     "execution_count": 4,
     "metadata": {},
     "output_type": "execute_result"
    }
   ],
   "source": [
    "train_data"
   ]
  },
  {
   "cell_type": "code",
   "execution_count": 6,
   "metadata": {},
   "outputs": [
    {
     "data": {
      "text/plain": [
       "torch.Size([60000, 28, 28])"
      ]
     },
     "execution_count": 6,
     "metadata": {},
     "output_type": "execute_result"
    }
   ],
   "source": [
    "train_data.data.shape"
   ]
  },
  {
   "cell_type": "code",
   "execution_count": 7,
   "metadata": {},
   "outputs": [],
   "source": [
    "from torch.utils.data import DataLoader\n",
    "\n",
    "loaders = {\n",
    "\n",
    "    \"train\": DataLoader(train_data, \n",
    "                        batch_size=100, \n",
    "                        shuffle=True,\n",
    "                        num_workers=1),\n",
    "\n",
    "    \"test\": DataLoader(test_data, \n",
    "                        batch_size=100, \n",
    "                        shuffle=True,\n",
    "                        num_workers=1),\n",
    "}"
   ]
  },
  {
   "cell_type": "code",
   "execution_count": 8,
   "metadata": {},
   "outputs": [
    {
     "data": {
      "text/plain": [
       "{'train': <torch.utils.data.dataloader.DataLoader at 0x16940cfff90>,\n",
       " 'test': <torch.utils.data.dataloader.DataLoader at 0x169409ee2d0>}"
      ]
     },
     "execution_count": 8,
     "metadata": {},
     "output_type": "execute_result"
    }
   ],
   "source": [
    "loaders"
   ]
  },
  {
   "cell_type": "code",
   "execution_count": 9,
   "metadata": {},
   "outputs": [],
   "source": [
    "import torch.nn as nn\n",
    "import torch.nn.functional as F\n",
    "import torch.optim as optim\n",
    "\n",
    "class CNN(nn.Module):\n",
    "\n",
    "    def __init__(self):\n",
    "        super(CNN, self).__init__()\n",
    "\n",
    "        self.conv1 = nn.Conv2d(1, 10, kernel_size=5)\n",
    "        self.conv2 = nn.Conv2d(10, 20, kernel_size=5)\n",
    "        self.conv2_drop = nn.Dropout2d()  # regularization layer\n",
    "        self.fc1 = nn.Linear(320, 50)\n",
    "        self.fc2 = nn.Linear(50, 10)\n",
    "\n",
    "    def forward(self, x):  # defines the activation\n",
    "        x = F.relu(F.max_pool2d(self.conv1(x), 2))\n",
    "        x = F.relu(F.max_pool2d(self.conv2_drop(self.conv2(x)), 2))\n",
    "        x = x.view(-1, 320)\n",
    "        x = F.relu(self.fc1(x))\n",
    "        x = F.dropout(x, training=self.training)\n",
    "        x = self.fc2(x)\n",
    "\n",
    "        return F.log_softmax(x)\n"
   ]
  },
  {
   "cell_type": "code",
   "execution_count": 10,
   "metadata": {},
   "outputs": [],
   "source": [
    "import torch\n",
    "\n",
    "device = torch.device(\"cuda\" if torch.cuda.is_available() else \"cpu\")\n",
    "\n",
    "model = CNN().to(device)\n",
    "\n",
    "optimizer = optim.Adam(model.parameters(), lr=0.001)\n",
    "\n",
    "loss_fn = nn.CrossEntropyLoss()\n",
    "\n",
    "def train(epoch):\n",
    "    model.train()\n",
    "    for batch_idx, (data, target) in enumerate(loaders['train']):\n",
    "        data, target = data.to(device), target.to(device)\n",
    "        optimizer.zero_grad()\n",
    "        output = model(data)\n",
    "        loss = loss_fn(output, target)\n",
    "        loss.backward()\n",
    "        optimizer.step()\n",
    "        if batch_idx % 20 == 0:\n",
    "            print(f\"Train Epoch: {epoch} [{batch_idx * len(data)}/{len(loaders['train'].dataset)} ({100. * batch_idx / len(loaders['train']):.0f}%)]\\tLoss: {loss.item():.6f}\")\n",
    "\n",
    "def test():\n",
    "    model.eval()\n",
    "\n",
    "    test_loss = 0\n",
    "    correct = 0\n",
    "\n",
    "    with torch.no_grad():\n",
    "        for data, target in loaders['test']:\n",
    "            data, target = data.to(device), target.to(device)\n",
    "            output = model(data)\n",
    "            test_loss += loss_fn(output, target).item()\n",
    "            pred = output.argmax(dim=1, keepdim=True)\n",
    "            correct += pred.eq(target.view_as(pred)).sum().item()\n",
    "\n",
    "    test_loss /= len(loaders['test'].dataset)\n",
    "    print(f\"\\nTest set: Average loss: {test_loss:.4f}, Accuracy: {correct}/{len(loaders['test'].dataset)} ({100. * correct / len(loaders['test'].dataset):.0f}%)\\n\")"
   ]
  },
  {
   "cell_type": "code",
   "execution_count": 11,
   "metadata": {},
   "outputs": [
    {
     "name": "stderr",
     "output_type": "stream",
     "text": [
      "C:\\Users\\kilio\\AppData\\Local\\Temp\\ipykernel_15160\\4133796389.py:24: UserWarning: Implicit dimension choice for log_softmax has been deprecated. Change the call to include dim=X as an argument.\n",
      "  return F.log_softmax(x)\n"
     ]
    },
    {
     "name": "stdout",
     "output_type": "stream",
     "text": [
      "Train Epoch: 1 [0/60000 (0%)]\tLoss: 2.315071\n",
      "Train Epoch: 1 [2000/60000 (3%)]\tLoss: 2.121290\n",
      "Train Epoch: 1 [4000/60000 (7%)]\tLoss: 1.615771\n",
      "Train Epoch: 1 [6000/60000 (10%)]\tLoss: 1.259906\n",
      "Train Epoch: 1 [8000/60000 (13%)]\tLoss: 1.018365\n",
      "Train Epoch: 1 [10000/60000 (17%)]\tLoss: 0.869551\n",
      "Train Epoch: 1 [12000/60000 (20%)]\tLoss: 0.609158\n",
      "Train Epoch: 1 [14000/60000 (23%)]\tLoss: 0.629324\n",
      "Train Epoch: 1 [16000/60000 (27%)]\tLoss: 0.510023\n",
      "Train Epoch: 1 [18000/60000 (30%)]\tLoss: 0.605918\n",
      "Train Epoch: 1 [20000/60000 (33%)]\tLoss: 0.425496\n",
      "Train Epoch: 1 [22000/60000 (37%)]\tLoss: 0.640551\n",
      "Train Epoch: 1 [24000/60000 (40%)]\tLoss: 0.535005\n",
      "Train Epoch: 1 [26000/60000 (43%)]\tLoss: 0.454369\n",
      "Train Epoch: 1 [28000/60000 (47%)]\tLoss: 0.371365\n",
      "Train Epoch: 1 [30000/60000 (50%)]\tLoss: 0.658469\n",
      "Train Epoch: 1 [32000/60000 (53%)]\tLoss: 0.413394\n",
      "Train Epoch: 1 [34000/60000 (57%)]\tLoss: 0.409198\n",
      "Train Epoch: 1 [36000/60000 (60%)]\tLoss: 0.454471\n",
      "Train Epoch: 1 [38000/60000 (63%)]\tLoss: 0.430997\n",
      "Train Epoch: 1 [40000/60000 (67%)]\tLoss: 0.265938\n",
      "Train Epoch: 1 [42000/60000 (70%)]\tLoss: 0.360780\n",
      "Train Epoch: 1 [44000/60000 (73%)]\tLoss: 0.453267\n",
      "Train Epoch: 1 [46000/60000 (77%)]\tLoss: 0.438591\n",
      "Train Epoch: 1 [48000/60000 (80%)]\tLoss: 0.488246\n",
      "Train Epoch: 1 [50000/60000 (83%)]\tLoss: 0.255116\n",
      "Train Epoch: 1 [52000/60000 (87%)]\tLoss: 0.392639\n",
      "Train Epoch: 1 [54000/60000 (90%)]\tLoss: 0.221815\n",
      "Train Epoch: 1 [56000/60000 (93%)]\tLoss: 0.246065\n",
      "Train Epoch: 1 [58000/60000 (97%)]\tLoss: 0.327730\n",
      "\n",
      "Test set: Average loss: 0.0015, Accuracy: 9524/10000 (95%)\n",
      "\n",
      "Train Epoch: 2 [0/60000 (0%)]\tLoss: 0.359678\n",
      "Train Epoch: 2 [2000/60000 (3%)]\tLoss: 0.247704\n",
      "Train Epoch: 2 [4000/60000 (7%)]\tLoss: 0.338610\n",
      "Train Epoch: 2 [6000/60000 (10%)]\tLoss: 0.317803\n",
      "Train Epoch: 2 [8000/60000 (13%)]\tLoss: 0.342246\n",
      "Train Epoch: 2 [10000/60000 (17%)]\tLoss: 0.388297\n",
      "Train Epoch: 2 [12000/60000 (20%)]\tLoss: 0.445908\n",
      "Train Epoch: 2 [14000/60000 (23%)]\tLoss: 0.430380\n",
      "Train Epoch: 2 [16000/60000 (27%)]\tLoss: 0.298452\n",
      "Train Epoch: 2 [18000/60000 (30%)]\tLoss: 0.210906\n",
      "Train Epoch: 2 [20000/60000 (33%)]\tLoss: 0.276240\n",
      "Train Epoch: 2 [22000/60000 (37%)]\tLoss: 0.272397\n",
      "Train Epoch: 2 [24000/60000 (40%)]\tLoss: 0.335448\n",
      "Train Epoch: 2 [26000/60000 (43%)]\tLoss: 0.464788\n",
      "Train Epoch: 2 [28000/60000 (47%)]\tLoss: 0.347881\n",
      "Train Epoch: 2 [30000/60000 (50%)]\tLoss: 0.309070\n",
      "Train Epoch: 2 [32000/60000 (53%)]\tLoss: 0.347331\n",
      "Train Epoch: 2 [34000/60000 (57%)]\tLoss: 0.500720\n",
      "Train Epoch: 2 [36000/60000 (60%)]\tLoss: 0.271789\n",
      "Train Epoch: 2 [38000/60000 (63%)]\tLoss: 0.321770\n",
      "Train Epoch: 2 [40000/60000 (67%)]\tLoss: 0.245313\n",
      "Train Epoch: 2 [42000/60000 (70%)]\tLoss: 0.296477\n",
      "Train Epoch: 2 [44000/60000 (73%)]\tLoss: 0.378904\n",
      "Train Epoch: 2 [46000/60000 (77%)]\tLoss: 0.137990\n",
      "Train Epoch: 2 [48000/60000 (80%)]\tLoss: 0.423203\n",
      "Train Epoch: 2 [50000/60000 (83%)]\tLoss: 0.237425\n",
      "Train Epoch: 2 [52000/60000 (87%)]\tLoss: 0.291307\n",
      "Train Epoch: 2 [54000/60000 (90%)]\tLoss: 0.329367\n",
      "Train Epoch: 2 [56000/60000 (93%)]\tLoss: 0.214956\n",
      "Train Epoch: 2 [58000/60000 (97%)]\tLoss: 0.255699\n",
      "\n",
      "Test set: Average loss: 0.0011, Accuracy: 9653/10000 (97%)\n",
      "\n",
      "Train Epoch: 3 [0/60000 (0%)]\tLoss: 0.206347\n",
      "Train Epoch: 3 [2000/60000 (3%)]\tLoss: 0.403480\n",
      "Train Epoch: 3 [4000/60000 (7%)]\tLoss: 0.247908\n",
      "Train Epoch: 3 [6000/60000 (10%)]\tLoss: 0.327881\n",
      "Train Epoch: 3 [8000/60000 (13%)]\tLoss: 0.256270\n",
      "Train Epoch: 3 [10000/60000 (17%)]\tLoss: 0.329569\n",
      "Train Epoch: 3 [12000/60000 (20%)]\tLoss: 0.216633\n",
      "Train Epoch: 3 [14000/60000 (23%)]\tLoss: 0.239466\n",
      "Train Epoch: 3 [16000/60000 (27%)]\tLoss: 0.331846\n",
      "Train Epoch: 3 [18000/60000 (30%)]\tLoss: 0.326503\n",
      "Train Epoch: 3 [20000/60000 (33%)]\tLoss: 0.358271\n",
      "Train Epoch: 3 [22000/60000 (37%)]\tLoss: 0.301793\n",
      "Train Epoch: 3 [24000/60000 (40%)]\tLoss: 0.380415\n",
      "Train Epoch: 3 [26000/60000 (43%)]\tLoss: 0.370589\n",
      "Train Epoch: 3 [28000/60000 (47%)]\tLoss: 0.095871\n",
      "Train Epoch: 3 [30000/60000 (50%)]\tLoss: 0.364119\n",
      "Train Epoch: 3 [32000/60000 (53%)]\tLoss: 0.153426\n",
      "Train Epoch: 3 [34000/60000 (57%)]\tLoss: 0.440953\n",
      "Train Epoch: 3 [36000/60000 (60%)]\tLoss: 0.161442\n",
      "Train Epoch: 3 [38000/60000 (63%)]\tLoss: 0.171471\n",
      "Train Epoch: 3 [40000/60000 (67%)]\tLoss: 0.285349\n",
      "Train Epoch: 3 [42000/60000 (70%)]\tLoss: 0.161239\n",
      "Train Epoch: 3 [44000/60000 (73%)]\tLoss: 0.299141\n",
      "Train Epoch: 3 [46000/60000 (77%)]\tLoss: 0.312748\n",
      "Train Epoch: 3 [48000/60000 (80%)]\tLoss: 0.206721\n",
      "Train Epoch: 3 [50000/60000 (83%)]\tLoss: 0.290424\n",
      "Train Epoch: 3 [52000/60000 (87%)]\tLoss: 0.222148\n",
      "Train Epoch: 3 [54000/60000 (90%)]\tLoss: 0.295333\n",
      "Train Epoch: 3 [56000/60000 (93%)]\tLoss: 0.222960\n",
      "Train Epoch: 3 [58000/60000 (97%)]\tLoss: 0.176201\n",
      "\n",
      "Test set: Average loss: 0.0008, Accuracy: 9743/10000 (97%)\n",
      "\n",
      "Train Epoch: 4 [0/60000 (0%)]\tLoss: 0.233236\n",
      "Train Epoch: 4 [2000/60000 (3%)]\tLoss: 0.191614\n",
      "Train Epoch: 4 [4000/60000 (7%)]\tLoss: 0.178729\n",
      "Train Epoch: 4 [6000/60000 (10%)]\tLoss: 0.331829\n",
      "Train Epoch: 4 [8000/60000 (13%)]\tLoss: 0.284129\n",
      "Train Epoch: 4 [10000/60000 (17%)]\tLoss: 0.185072\n",
      "Train Epoch: 4 [12000/60000 (20%)]\tLoss: 0.233803\n",
      "Train Epoch: 4 [14000/60000 (23%)]\tLoss: 0.340826\n",
      "Train Epoch: 4 [16000/60000 (27%)]\tLoss: 0.402617\n",
      "Train Epoch: 4 [18000/60000 (30%)]\tLoss: 0.179166\n",
      "Train Epoch: 4 [20000/60000 (33%)]\tLoss: 0.171002\n",
      "Train Epoch: 4 [22000/60000 (37%)]\tLoss: 0.207484\n",
      "Train Epoch: 4 [24000/60000 (40%)]\tLoss: 0.169381\n",
      "Train Epoch: 4 [26000/60000 (43%)]\tLoss: 0.149329\n",
      "Train Epoch: 4 [28000/60000 (47%)]\tLoss: 0.144466\n",
      "Train Epoch: 4 [30000/60000 (50%)]\tLoss: 0.202699\n",
      "Train Epoch: 4 [32000/60000 (53%)]\tLoss: 0.186965\n",
      "Train Epoch: 4 [34000/60000 (57%)]\tLoss: 0.307111\n",
      "Train Epoch: 4 [36000/60000 (60%)]\tLoss: 0.261708\n",
      "Train Epoch: 4 [38000/60000 (63%)]\tLoss: 0.206094\n",
      "Train Epoch: 4 [40000/60000 (67%)]\tLoss: 0.302935\n",
      "Train Epoch: 4 [42000/60000 (70%)]\tLoss: 0.135868\n",
      "Train Epoch: 4 [44000/60000 (73%)]\tLoss: 0.222616\n",
      "Train Epoch: 4 [46000/60000 (77%)]\tLoss: 0.316050\n",
      "Train Epoch: 4 [48000/60000 (80%)]\tLoss: 0.363638\n",
      "Train Epoch: 4 [50000/60000 (83%)]\tLoss: 0.292644\n",
      "Train Epoch: 4 [52000/60000 (87%)]\tLoss: 0.162882\n",
      "Train Epoch: 4 [54000/60000 (90%)]\tLoss: 0.231721\n",
      "Train Epoch: 4 [56000/60000 (93%)]\tLoss: 0.291972\n",
      "Train Epoch: 4 [58000/60000 (97%)]\tLoss: 0.210190\n",
      "\n",
      "Test set: Average loss: 0.0007, Accuracy: 9779/10000 (98%)\n",
      "\n",
      "Train Epoch: 5 [0/60000 (0%)]\tLoss: 0.225256\n",
      "Train Epoch: 5 [2000/60000 (3%)]\tLoss: 0.206471\n",
      "Train Epoch: 5 [4000/60000 (7%)]\tLoss: 0.135948\n",
      "Train Epoch: 5 [6000/60000 (10%)]\tLoss: 0.167814\n",
      "Train Epoch: 5 [8000/60000 (13%)]\tLoss: 0.162218\n",
      "Train Epoch: 5 [10000/60000 (17%)]\tLoss: 0.182466\n",
      "Train Epoch: 5 [12000/60000 (20%)]\tLoss: 0.158650\n",
      "Train Epoch: 5 [14000/60000 (23%)]\tLoss: 0.295668\n",
      "Train Epoch: 5 [16000/60000 (27%)]\tLoss: 0.251997\n",
      "Train Epoch: 5 [18000/60000 (30%)]\tLoss: 0.240092\n",
      "Train Epoch: 5 [20000/60000 (33%)]\tLoss: 0.136229\n",
      "Train Epoch: 5 [22000/60000 (37%)]\tLoss: 0.179728\n",
      "Train Epoch: 5 [24000/60000 (40%)]\tLoss: 0.203068\n",
      "Train Epoch: 5 [26000/60000 (43%)]\tLoss: 0.168334\n",
      "Train Epoch: 5 [28000/60000 (47%)]\tLoss: 0.150121\n",
      "Train Epoch: 5 [30000/60000 (50%)]\tLoss: 0.159779\n",
      "Train Epoch: 5 [32000/60000 (53%)]\tLoss: 0.195307\n",
      "Train Epoch: 5 [34000/60000 (57%)]\tLoss: 0.264367\n",
      "Train Epoch: 5 [36000/60000 (60%)]\tLoss: 0.291730\n",
      "Train Epoch: 5 [38000/60000 (63%)]\tLoss: 0.118058\n",
      "Train Epoch: 5 [40000/60000 (67%)]\tLoss: 0.240369\n",
      "Train Epoch: 5 [42000/60000 (70%)]\tLoss: 0.080216\n",
      "Train Epoch: 5 [44000/60000 (73%)]\tLoss: 0.220608\n",
      "Train Epoch: 5 [46000/60000 (77%)]\tLoss: 0.168321\n",
      "Train Epoch: 5 [48000/60000 (80%)]\tLoss: 0.187458\n",
      "Train Epoch: 5 [50000/60000 (83%)]\tLoss: 0.222352\n",
      "Train Epoch: 5 [52000/60000 (87%)]\tLoss: 0.132582\n",
      "Train Epoch: 5 [54000/60000 (90%)]\tLoss: 0.086787\n",
      "Train Epoch: 5 [56000/60000 (93%)]\tLoss: 0.209917\n",
      "Train Epoch: 5 [58000/60000 (97%)]\tLoss: 0.217161\n",
      "\n",
      "Test set: Average loss: 0.0006, Accuracy: 9798/10000 (98%)\n",
      "\n",
      "Train Epoch: 6 [0/60000 (0%)]\tLoss: 0.274409\n",
      "Train Epoch: 6 [2000/60000 (3%)]\tLoss: 0.308326\n",
      "Train Epoch: 6 [4000/60000 (7%)]\tLoss: 0.232882\n",
      "Train Epoch: 6 [6000/60000 (10%)]\tLoss: 0.208464\n",
      "Train Epoch: 6 [8000/60000 (13%)]\tLoss: 0.111090\n",
      "Train Epoch: 6 [10000/60000 (17%)]\tLoss: 0.227430\n",
      "Train Epoch: 6 [12000/60000 (20%)]\tLoss: 0.294070\n",
      "Train Epoch: 6 [14000/60000 (23%)]\tLoss: 0.116767\n",
      "Train Epoch: 6 [16000/60000 (27%)]\tLoss: 0.182325\n",
      "Train Epoch: 6 [18000/60000 (30%)]\tLoss: 0.277158\n",
      "Train Epoch: 6 [20000/60000 (33%)]\tLoss: 0.185932\n",
      "Train Epoch: 6 [22000/60000 (37%)]\tLoss: 0.157347\n",
      "Train Epoch: 6 [24000/60000 (40%)]\tLoss: 0.142280\n",
      "Train Epoch: 6 [26000/60000 (43%)]\tLoss: 0.070094\n",
      "Train Epoch: 6 [28000/60000 (47%)]\tLoss: 0.193160\n",
      "Train Epoch: 6 [30000/60000 (50%)]\tLoss: 0.271742\n",
      "Train Epoch: 6 [32000/60000 (53%)]\tLoss: 0.220335\n",
      "Train Epoch: 6 [34000/60000 (57%)]\tLoss: 0.221252\n",
      "Train Epoch: 6 [36000/60000 (60%)]\tLoss: 0.187178\n",
      "Train Epoch: 6 [38000/60000 (63%)]\tLoss: 0.224164\n",
      "Train Epoch: 6 [40000/60000 (67%)]\tLoss: 0.269901\n",
      "Train Epoch: 6 [42000/60000 (70%)]\tLoss: 0.284846\n",
      "Train Epoch: 6 [44000/60000 (73%)]\tLoss: 0.216365\n",
      "Train Epoch: 6 [46000/60000 (77%)]\tLoss: 0.162466\n",
      "Train Epoch: 6 [48000/60000 (80%)]\tLoss: 0.153444\n",
      "Train Epoch: 6 [50000/60000 (83%)]\tLoss: 0.170703\n",
      "Train Epoch: 6 [52000/60000 (87%)]\tLoss: 0.255356\n",
      "Train Epoch: 6 [54000/60000 (90%)]\tLoss: 0.235406\n",
      "Train Epoch: 6 [56000/60000 (93%)]\tLoss: 0.284304\n",
      "Train Epoch: 6 [58000/60000 (97%)]\tLoss: 0.156618\n",
      "\n",
      "Test set: Average loss: 0.0006, Accuracy: 9814/10000 (98%)\n",
      "\n",
      "Train Epoch: 7 [0/60000 (0%)]\tLoss: 0.147887\n",
      "Train Epoch: 7 [2000/60000 (3%)]\tLoss: 0.129133\n",
      "Train Epoch: 7 [4000/60000 (7%)]\tLoss: 0.158873\n",
      "Train Epoch: 7 [6000/60000 (10%)]\tLoss: 0.079774\n",
      "Train Epoch: 7 [8000/60000 (13%)]\tLoss: 0.248366\n",
      "Train Epoch: 7 [10000/60000 (17%)]\tLoss: 0.253617\n",
      "Train Epoch: 7 [12000/60000 (20%)]\tLoss: 0.147428\n",
      "Train Epoch: 7 [14000/60000 (23%)]\tLoss: 0.119905\n",
      "Train Epoch: 7 [16000/60000 (27%)]\tLoss: 0.153702\n",
      "Train Epoch: 7 [18000/60000 (30%)]\tLoss: 0.327804\n",
      "Train Epoch: 7 [20000/60000 (33%)]\tLoss: 0.157778\n",
      "Train Epoch: 7 [22000/60000 (37%)]\tLoss: 0.142032\n",
      "Train Epoch: 7 [24000/60000 (40%)]\tLoss: 0.078077\n",
      "Train Epoch: 7 [26000/60000 (43%)]\tLoss: 0.137813\n",
      "Train Epoch: 7 [28000/60000 (47%)]\tLoss: 0.226230\n",
      "Train Epoch: 7 [30000/60000 (50%)]\tLoss: 0.235167\n",
      "Train Epoch: 7 [32000/60000 (53%)]\tLoss: 0.139238\n",
      "Train Epoch: 7 [34000/60000 (57%)]\tLoss: 0.316633\n",
      "Train Epoch: 7 [36000/60000 (60%)]\tLoss: 0.133750\n",
      "Train Epoch: 7 [38000/60000 (63%)]\tLoss: 0.101776\n",
      "Train Epoch: 7 [40000/60000 (67%)]\tLoss: 0.100159\n",
      "Train Epoch: 7 [42000/60000 (70%)]\tLoss: 0.216436\n",
      "Train Epoch: 7 [44000/60000 (73%)]\tLoss: 0.081290\n",
      "Train Epoch: 7 [46000/60000 (77%)]\tLoss: 0.123361\n",
      "Train Epoch: 7 [48000/60000 (80%)]\tLoss: 0.100828\n",
      "Train Epoch: 7 [50000/60000 (83%)]\tLoss: 0.172316\n",
      "Train Epoch: 7 [52000/60000 (87%)]\tLoss: 0.156669\n",
      "Train Epoch: 7 [54000/60000 (90%)]\tLoss: 0.265287\n",
      "Train Epoch: 7 [56000/60000 (93%)]\tLoss: 0.266543\n",
      "Train Epoch: 7 [58000/60000 (97%)]\tLoss: 0.099310\n",
      "\n",
      "Test set: Average loss: 0.0005, Accuracy: 9842/10000 (98%)\n",
      "\n",
      "Train Epoch: 8 [0/60000 (0%)]\tLoss: 0.214875\n",
      "Train Epoch: 8 [2000/60000 (3%)]\tLoss: 0.211288\n",
      "Train Epoch: 8 [4000/60000 (7%)]\tLoss: 0.170339\n",
      "Train Epoch: 8 [6000/60000 (10%)]\tLoss: 0.191648\n",
      "Train Epoch: 8 [8000/60000 (13%)]\tLoss: 0.265611\n",
      "Train Epoch: 8 [10000/60000 (17%)]\tLoss: 0.175285\n",
      "Train Epoch: 8 [12000/60000 (20%)]\tLoss: 0.121622\n",
      "Train Epoch: 8 [14000/60000 (23%)]\tLoss: 0.131106\n",
      "Train Epoch: 8 [16000/60000 (27%)]\tLoss: 0.187148\n",
      "Train Epoch: 8 [18000/60000 (30%)]\tLoss: 0.194722\n",
      "Train Epoch: 8 [20000/60000 (33%)]\tLoss: 0.118722\n",
      "Train Epoch: 8 [22000/60000 (37%)]\tLoss: 0.143402\n",
      "Train Epoch: 8 [24000/60000 (40%)]\tLoss: 0.087993\n",
      "Train Epoch: 8 [26000/60000 (43%)]\tLoss: 0.213883\n",
      "Train Epoch: 8 [28000/60000 (47%)]\tLoss: 0.164565\n",
      "Train Epoch: 8 [30000/60000 (50%)]\tLoss: 0.095154\n",
      "Train Epoch: 8 [32000/60000 (53%)]\tLoss: 0.155150\n",
      "Train Epoch: 8 [34000/60000 (57%)]\tLoss: 0.033246\n",
      "Train Epoch: 8 [36000/60000 (60%)]\tLoss: 0.128854\n",
      "Train Epoch: 8 [38000/60000 (63%)]\tLoss: 0.136185\n",
      "Train Epoch: 8 [40000/60000 (67%)]\tLoss: 0.122440\n",
      "Train Epoch: 8 [42000/60000 (70%)]\tLoss: 0.178991\n",
      "Train Epoch: 8 [44000/60000 (73%)]\tLoss: 0.267103\n",
      "Train Epoch: 8 [46000/60000 (77%)]\tLoss: 0.215898\n",
      "Train Epoch: 8 [48000/60000 (80%)]\tLoss: 0.151184\n",
      "Train Epoch: 8 [50000/60000 (83%)]\tLoss: 0.108143\n",
      "Train Epoch: 8 [52000/60000 (87%)]\tLoss: 0.304541\n",
      "Train Epoch: 8 [54000/60000 (90%)]\tLoss: 0.116952\n",
      "Train Epoch: 8 [56000/60000 (93%)]\tLoss: 0.175962\n",
      "Train Epoch: 8 [58000/60000 (97%)]\tLoss: 0.208304\n",
      "\n",
      "Test set: Average loss: 0.0005, Accuracy: 9851/10000 (99%)\n",
      "\n",
      "Train Epoch: 9 [0/60000 (0%)]\tLoss: 0.378444\n",
      "Train Epoch: 9 [2000/60000 (3%)]\tLoss: 0.087465\n",
      "Train Epoch: 9 [4000/60000 (7%)]\tLoss: 0.092415\n",
      "Train Epoch: 9 [6000/60000 (10%)]\tLoss: 0.105843\n",
      "Train Epoch: 9 [8000/60000 (13%)]\tLoss: 0.216093\n",
      "Train Epoch: 9 [10000/60000 (17%)]\tLoss: 0.094566\n",
      "Train Epoch: 9 [12000/60000 (20%)]\tLoss: 0.097409\n",
      "Train Epoch: 9 [14000/60000 (23%)]\tLoss: 0.238678\n",
      "Train Epoch: 9 [16000/60000 (27%)]\tLoss: 0.166817\n",
      "Train Epoch: 9 [18000/60000 (30%)]\tLoss: 0.224435\n",
      "Train Epoch: 9 [20000/60000 (33%)]\tLoss: 0.211176\n",
      "Train Epoch: 9 [22000/60000 (37%)]\tLoss: 0.129786\n",
      "Train Epoch: 9 [24000/60000 (40%)]\tLoss: 0.225177\n",
      "Train Epoch: 9 [26000/60000 (43%)]\tLoss: 0.070322\n",
      "Train Epoch: 9 [28000/60000 (47%)]\tLoss: 0.154006\n",
      "Train Epoch: 9 [30000/60000 (50%)]\tLoss: 0.141796\n",
      "Train Epoch: 9 [32000/60000 (53%)]\tLoss: 0.122956\n",
      "Train Epoch: 9 [34000/60000 (57%)]\tLoss: 0.126009\n",
      "Train Epoch: 9 [36000/60000 (60%)]\tLoss: 0.155789\n",
      "Train Epoch: 9 [38000/60000 (63%)]\tLoss: 0.062183\n",
      "Train Epoch: 9 [40000/60000 (67%)]\tLoss: 0.303241\n",
      "Train Epoch: 9 [42000/60000 (70%)]\tLoss: 0.152962\n",
      "Train Epoch: 9 [44000/60000 (73%)]\tLoss: 0.246283\n",
      "Train Epoch: 9 [46000/60000 (77%)]\tLoss: 0.205450\n",
      "Train Epoch: 9 [48000/60000 (80%)]\tLoss: 0.157950\n",
      "Train Epoch: 9 [50000/60000 (83%)]\tLoss: 0.100774\n",
      "Train Epoch: 9 [52000/60000 (87%)]\tLoss: 0.122112\n",
      "Train Epoch: 9 [54000/60000 (90%)]\tLoss: 0.386556\n",
      "Train Epoch: 9 [56000/60000 (93%)]\tLoss: 0.156504\n",
      "Train Epoch: 9 [58000/60000 (97%)]\tLoss: 0.108943\n",
      "\n",
      "Test set: Average loss: 0.0004, Accuracy: 9858/10000 (99%)\n",
      "\n",
      "Train Epoch: 10 [0/60000 (0%)]\tLoss: 0.231206\n",
      "Train Epoch: 10 [2000/60000 (3%)]\tLoss: 0.102861\n",
      "Train Epoch: 10 [4000/60000 (7%)]\tLoss: 0.089573\n",
      "Train Epoch: 10 [6000/60000 (10%)]\tLoss: 0.138369\n",
      "Train Epoch: 10 [8000/60000 (13%)]\tLoss: 0.110594\n",
      "Train Epoch: 10 [10000/60000 (17%)]\tLoss: 0.116155\n",
      "Train Epoch: 10 [12000/60000 (20%)]\tLoss: 0.120550\n",
      "Train Epoch: 10 [14000/60000 (23%)]\tLoss: 0.114036\n",
      "Train Epoch: 10 [16000/60000 (27%)]\tLoss: 0.120000\n",
      "Train Epoch: 10 [18000/60000 (30%)]\tLoss: 0.279477\n",
      "Train Epoch: 10 [20000/60000 (33%)]\tLoss: 0.147611\n",
      "Train Epoch: 10 [22000/60000 (37%)]\tLoss: 0.129559\n",
      "Train Epoch: 10 [24000/60000 (40%)]\tLoss: 0.243808\n",
      "Train Epoch: 10 [26000/60000 (43%)]\tLoss: 0.314904\n",
      "Train Epoch: 10 [28000/60000 (47%)]\tLoss: 0.114851\n",
      "Train Epoch: 10 [30000/60000 (50%)]\tLoss: 0.069531\n",
      "Train Epoch: 10 [32000/60000 (53%)]\tLoss: 0.163223\n",
      "Train Epoch: 10 [34000/60000 (57%)]\tLoss: 0.162875\n",
      "Train Epoch: 10 [36000/60000 (60%)]\tLoss: 0.196763\n",
      "Train Epoch: 10 [38000/60000 (63%)]\tLoss: 0.119062\n",
      "Train Epoch: 10 [40000/60000 (67%)]\tLoss: 0.143070\n",
      "Train Epoch: 10 [42000/60000 (70%)]\tLoss: 0.088343\n",
      "Train Epoch: 10 [44000/60000 (73%)]\tLoss: 0.211735\n",
      "Train Epoch: 10 [46000/60000 (77%)]\tLoss: 0.134945\n",
      "Train Epoch: 10 [48000/60000 (80%)]\tLoss: 0.216084\n",
      "Train Epoch: 10 [50000/60000 (83%)]\tLoss: 0.057065\n",
      "Train Epoch: 10 [52000/60000 (87%)]\tLoss: 0.141048\n",
      "Train Epoch: 10 [54000/60000 (90%)]\tLoss: 0.094239\n",
      "Train Epoch: 10 [56000/60000 (93%)]\tLoss: 0.160876\n",
      "Train Epoch: 10 [58000/60000 (97%)]\tLoss: 0.227784\n",
      "\n",
      "Test set: Average loss: 0.0005, Accuracy: 9857/10000 (99%)\n",
      "\n"
     ]
    }
   ],
   "source": [
    "for epoch in range(1, 11):\n",
    "    train(epoch)\n",
    "    test()"
   ]
  },
  {
   "cell_type": "code",
   "execution_count": 13,
   "metadata": {},
   "outputs": [
    {
     "name": "stdout",
     "output_type": "stream",
     "text": [
      "Dataset MNIST\n",
      "    Number of datapoints: 10000\n",
      "    Root location: data\n",
      "    Split: Test\n",
      "    StandardTransform\n",
      "Transform: ToTensor()\n",
      "Prediction: 7\n"
     ]
    },
    {
     "name": "stderr",
     "output_type": "stream",
     "text": [
      "C:\\Users\\kilio\\AppData\\Local\\Temp\\ipykernel_15160\\4133796389.py:24: UserWarning: Implicit dimension choice for log_softmax has been deprecated. Change the call to include dim=X as an argument.\n",
      "  return F.log_softmax(x)\n"
     ]
    },
    {
     "data": {
      "image/png": "[encoded data removed]",
      "text/plain": [
       "<Figure size 640x480 with 1 Axes>"
      ]
     },
     "metadata": {},
     "output_type": "display_data"
    }
   ],
   "source": [
    "import matplotlib.pyplot as plt\n",
    "\n",
    "model.eval()\n",
    "\n",
    "data, target = test_data[0]\n",
    "\n",
    "data = data.unsqueeze(0).to(device)\n",
    "\n",
    "output = model(data)\n",
    "\n",
    "prediction = output.argmax(dim=1, keepdim=True).item()\n",
    "\n",
    "print(f\"Prediction: {prediction}\")\n",
    "\n",
    "image = data.squeeze(0).squeeze(0).cpu().numpy()\n",
    "\n",
    "plt.imshow(image, cmap='gray')\n",
    "plt.show()"
   ]
  },
  {
   "cell_type": "code",
   "execution_count": 21,
   "metadata": {},
   "outputs": [
    {
     "name": "stdout",
     "output_type": "stream",
     "text": [
      "Prediction: 2\n"
     ]
    },
    {
     "name": "stderr",
     "output_type": "stream",
     "text": [
      "C:\\Users\\kilio\\AppData\\Local\\Temp\\ipykernel_15160\\4133796389.py:24: UserWarning: Implicit dimension choice for log_softmax has been deprecated. Change the call to include dim=X as an argument.\n",
      "  return F.log_softmax(x)\n"
     ]
    },
    {
     "data": {
      "image/png": "[encoded data removed]",
      "text/plain": [
       "<Figure size 640x480 with 1 Axes>"
      ]
     },
     "metadata": {},
     "output_type": "display_data"
    }
   ],
   "source": [
    "import torch\n",
    "from PIL import Image\n",
    "import torchvision.transforms as transforms\n",
    "import matplotlib.pyplot as plt\n",
    "\n",
    "# Load the image\n",
    "image_path = \"Digits/9.png\"  # Provide the path to your image\n",
    "image = Image.open(image_path).convert('L')  # Convert to grayscale if necessary\n",
    "\n",
    "# Define the transformations to match the model's input requirements\n",
    "transform = transforms.Compose([\n",
    "    transforms.Resize((28, 28)),  # Resize to the model's expected input size (example for MNIST-like models)\n",
    "    transforms.ToTensor(),  # Convert image to tensor\n",
    "    transforms.Normalize((0.5,), (0.5,))  # Normalize (adjust based on model training)\n",
    "])\n",
    "\n",
    "# Apply the transformations\n",
    "image_tensor = transform(image).unsqueeze(0).to(device)  # Add batch dimension and move to correct device\n",
    "\n",
    "# Set the model to evaluation mode\n",
    "model.eval()\n",
    "\n",
    "# Perform prediction\n",
    "with torch.no_grad():  # Disable gradient calculations for inference\n",
    "    output = model(image_tensor)\n",
    "    prediction = output.argmax(dim=1, keepdim=True).item()\n",
    "\n",
    "# Print the prediction\n",
    "print(f\"Prediction: {prediction}\")\n",
    "\n",
    "# Display the image\n",
    "image_to_show = image_tensor.squeeze(0).squeeze(0).cpu().numpy()  # Remove batch and channel dimensions\n",
    "plt.imshow(image_to_show, cmap='gray')\n",
    "plt.show()\n"
   ]
  }
 ],
 "metadata": {
  "kernelspec": {
   "display_name": "envtest",
   "language": "python",
   "name": "python3"
  },
  "language_info": {
   "codemirror_mode": {
    "name": "ipython",
    "version": 3
   },
   "file_extension": ".py",
   "mimetype": "text/x-python",
   "name": "python",
   "nbconvert_exporter": "python",
   "pygments_lexer": "ipython3",
   "version": "3.12.3"
  }
 },
 "nbformat": 4,
 "nbformat_minor": 2
}
